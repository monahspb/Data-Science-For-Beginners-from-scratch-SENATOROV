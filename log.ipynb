{
 "cells": [
  {
   "cell_type": "code",
   "execution_count": null,
   "metadata": {
    "vscode": {
     "languageId": "plaintext"
    }
   },
   "outputs": [],
   "source": [
    "\"\"\"Создание файла логирования с описанием.\"\"\""
   ]
  },
  {
   "cell_type": "markdown",
   "metadata": {},
   "source": [
    "16.06.\n",
    "\n",
    "1. Просмотрел урок по процессу принятия и отправки коммитов и работе с линтером.\n",
    "2. Создал файл логирования.\n",
    "3. Написал шаги в данном файле, согласно задания."
   ]
  }
 ],
 "metadata": {
  "language_info": {
   "name": "python"
  }
 },
 "nbformat": 4,
 "nbformat_minor": 2
}
